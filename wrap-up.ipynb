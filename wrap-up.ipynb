{
 "cells": [
  {
   "cell_type": "markdown",
   "metadata": {},
   "source": [
    "# Workflow of CNN\n",
    "\n",
    "1. Set random seed and device\n",
    "\n",
    "2. Build model\n",
    "\n",
    "3. Download dataset and process\n",
    "   - Download from a package (`train` and `test`)\n",
    "\n",
    "   - Split the dataset (`train` and `val`, `StratifiedShuffleSplit`) and get indices\n",
    "\n",
    "   - Preprocess dataset (Standardize, augment)\n",
    "\n",
    "   - Create TensorDataset for `train`, `test`, `val`\n",
    "\n",
    "\n",
    "4. Define `train()`, `validation()` and `evaluation()` functions\n",
    "\n",
    "5. Set hyperparameters\n",
    "\n",
    "6. Define `train_model()` function and call `train()` and `validation()`\n",
    "\n",
    "7. Use `evaluation()` to predict"
   ]
  }
 ],
 "metadata": {
  "kernelspec": {
   "display_name": "deeplearning",
   "language": "python",
   "name": "python3"
  },
  "language_info": {
   "name": "python",
   "version": "3.9.18"
  }
 },
 "nbformat": 4,
 "nbformat_minor": 2
}
